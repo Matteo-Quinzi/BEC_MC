{
 "cells": [
  {
   "cell_type": "code",
   "execution_count": 55,
   "id": "3e7a0184-d08e-4b58-a6e4-1c2e3d93831e",
   "metadata": {},
   "outputs": [
    {
     "data": {
      "text/plain": [
       "[<matplotlib.lines.Line2D at 0x7f4435177220>]"
      ]
     },
     "execution_count": 55,
     "metadata": {},
     "output_type": "execute_result"
    },
    {
     "data": {
      "image/png": "[encoded data removed]",
      "text/plain": [
       "<Figure size 432x288 with 1 Axes>"
      ]
     },
     "metadata": {
      "needs_background": "light"
     },
     "output_type": "display_data"
    }
   ],
   "source": [
    "import numpy as np\n",
    "import matplotlib.pyplot as plt\n",
    "\n",
    "data = np.genfromtxt('DMC.out', skip_header=1)\n",
    "r = data[:,0]\n",
    "rho = data[:,1]\n",
    "\n",
    "data = np.genfromtxt('eigenvec.out')\n",
    "eigenvec = data[:,1]\n",
    "\n",
    "fig, ax = plt.subplots()\n",
    "ax.set_xlim(0.,2.)\n",
    "ax.plot(r,rho)\n",
    "ax.plot(r,eigenvec*r**2)"
   ]
  },
  {
   "cell_type": "code",
   "execution_count": 31,
   "id": "cfb99fc1-ce92-464e-8317-adbb2f09c38b",
   "metadata": {},
   "outputs": [
    {
     "name": "stdout",
     "output_type": "stream",
     "text": [
      "1.0\n"
     ]
    }
   ],
   "source": [
    "print(np.sum(rho))"
   ]
  },
  {
   "cell_type": "code",
   "execution_count": null,
   "id": "83dbf518-ac18-486e-88ea-35e106d4c642",
   "metadata": {},
   "outputs": [],
   "source": []
  }
 ],
 "metadata": {
  "kernelspec": {
   "display_name": "Python 3 (ipykernel)",
   "language": "python",
   "name": "python3"
  },
  "language_info": {
   "codemirror_mode": {
    "name": "ipython",
    "version": 3
   },
   "file_extension": ".py",
   "mimetype": "text/x-python",
   "name": "python",
   "nbconvert_exporter": "python",
   "pygments_lexer": "ipython3",
   "version": "3.9.12"
  }
 },
 "nbformat": 4,
 "nbformat_minor": 5
}
