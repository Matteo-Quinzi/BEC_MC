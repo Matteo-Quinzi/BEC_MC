{
 "cells": [
  {
   "cell_type": "code",
   "execution_count": 15,
   "id": "b4443032-3633-452a-9c3b-6218e8abc276",
   "metadata": {},
   "outputs": [
    {
     "name": "stdout",
     "output_type": "stream",
     "text": [
      "(381,)\n",
      "Mean Value : -0.016181\n",
      "Variance : 0.954951\n"
     ]
    },
    {
     "data": {
      "image/png": "[encoded data removed]",
      "text/plain": [
       "<Figure size 432x288 with 1 Axes>"
      ]
     },
     "metadata": {
      "needs_background": "light"
     },
     "output_type": "display_data"
    }
   ],
   "source": [
    "import numpy as np\n",
    "import matplotlib.pyplot as plt\n",
    "data = np.genfromtxt('rng.txt')\n",
    "print(data.shape)\n",
    "_ = plt.hist(data,bins=50)\n",
    "mean_val = np.mean(data)\n",
    "var = np.var(data)\n",
    "print('Mean Value : %f' % mean_val)\n",
    "print('Variance : %f' % var)\n"
   ]
  },
  {
   "cell_type": "code",
   "execution_count": null,
   "id": "10395d13-1c28-45dd-b6bd-fd2ddc01b65c",
   "metadata": {},
   "outputs": [],
   "source": []
  }
 ],
 "metadata": {
  "kernelspec": {
   "display_name": "Python 3 (ipykernel)",
   "language": "python",
   "name": "python3"
  },
  "language_info": {
   "codemirror_mode": {
    "name": "ipython",
    "version": 3
   },
   "file_extension": ".py",
   "mimetype": "text/x-python",
   "name": "python",
   "nbconvert_exporter": "python",
   "pygments_lexer": "ipython3",
   "version": "3.9.12"
  }
 },
 "nbformat": 4,
 "nbformat_minor": 5
}
